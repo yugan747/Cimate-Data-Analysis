{
 "cells": [
  {
   "cell_type": "code",
   "execution_count": 34,
   "id": "7dca692f-6272-434b-a960-0cc218d39c2a",
   "metadata": {},
   "outputs": [],
   "source": [
    "import pandas as pd \n",
    "csv_path = \"Kathmandu_temperature_daily.csv\"\n",
    "df = pd.read_csv(csv_path)\n",
    "\n",
    "\n"
   ]
  },
  {
   "cell_type": "code",
   "execution_count": 35,
   "id": "df9bdcf7-0284-4e54-9a57-97d25a54db0b",
   "metadata": {},
   "outputs": [],
   "source": [
    "df = df.iloc[4:]\n"
   ]
  },
  {
   "cell_type": "code",
   "execution_count": 30,
   "id": "a83303be-7d9f-4032-ab55-a811396e6b53",
   "metadata": {},
   "outputs": [
    {
     "ename": "NameError",
     "evalue": "name 'df' is not defined",
     "output_type": "error",
     "traceback": [
      "\u001b[1;31m---------------------------------------------------------------------------\u001b[0m",
      "\u001b[1;31mNameError\u001b[0m                                 Traceback (most recent call last)",
      "Cell \u001b[1;32mIn[30], line 2\u001b[0m\n\u001b[0;32m      1\u001b[0m \u001b[38;5;66;03m#df.rename(columns={'#elname=temperature':'year','Unnamed: 1':'month','Unnamed: 2':'day','Unnamed: 3':'value'},replace=True)\u001b[39;00m\n\u001b[1;32m----> 2\u001b[0m \u001b[43mdf\u001b[49m\u001b[38;5;241m.\u001b[39mcolumns\u001b[38;5;241m=\u001b[39m[\u001b[38;5;124m'\u001b[39m\u001b[38;5;124myear\u001b[39m\u001b[38;5;124m'\u001b[39m,\u001b[38;5;124m'\u001b[39m\u001b[38;5;124mmonth\u001b[39m\u001b[38;5;124m'\u001b[39m,\u001b[38;5;124m'\u001b[39m\u001b[38;5;124mday\u001b[39m\u001b[38;5;124m'\u001b[39m,\u001b[38;5;124m'\u001b[39m\u001b[38;5;124mtemperature\u001b[39m\u001b[38;5;124m'\u001b[39m]\n\u001b[0;32m      3\u001b[0m df\u001b[38;5;241m.\u001b[39mreset_index(drop\u001b[38;5;241m=\u001b[39m\u001b[38;5;28;01mTrue\u001b[39;00m, inplace\u001b[38;5;241m=\u001b[39m\u001b[38;5;28;01mTrue\u001b[39;00m)\n\u001b[0;32m      4\u001b[0m \u001b[38;5;28mprint\u001b[39m(df\u001b[38;5;241m.\u001b[39mhead())\n",
      "\u001b[1;31mNameError\u001b[0m: name 'df' is not defined"
     ]
    }
   ],
   "source": [
    "#df.rename(columns={'#elname=temperature':'year','Unnamed: 1':'month','Unnamed: 2':'day','Unnamed: 3':'value'},replace=True)\n",
    "df.columns=['year','month','day','temperature']\n",
    "df.reset_index(drop=True, inplace=True)\n",
    "print(df.head())\n"
   ]
  },
  {
   "cell_type": "code",
   "execution_count": 31,
   "id": "e9ec29a7-7736-4729-b053-cc754aeb6012",
   "metadata": {},
   "outputs": [
    {
     "ename": "NameError",
     "evalue": "name 'df' is not defined",
     "output_type": "error",
     "traceback": [
      "\u001b[1;31m---------------------------------------------------------------------------\u001b[0m",
      "\u001b[1;31mNameError\u001b[0m                                 Traceback (most recent call last)",
      "Cell \u001b[1;32mIn[31], line 1\u001b[0m\n\u001b[1;32m----> 1\u001b[0m df[\u001b[38;5;124m'\u001b[39m\u001b[38;5;124mmonth\u001b[39m\u001b[38;5;124m'\u001b[39m] \u001b[38;5;241m=\u001b[39m \u001b[43mdf\u001b[49m[\u001b[38;5;124m'\u001b[39m\u001b[38;5;124mmonth\u001b[39m\u001b[38;5;124m'\u001b[39m]\u001b[38;5;241m.\u001b[39mastype(\u001b[38;5;28mint\u001b[39m)\n\u001b[0;32m      2\u001b[0m df[\u001b[38;5;124m'\u001b[39m\u001b[38;5;124mday\u001b[39m\u001b[38;5;124m'\u001b[39m] \u001b[38;5;241m=\u001b[39m df[\u001b[38;5;124m'\u001b[39m\u001b[38;5;124mday\u001b[39m\u001b[38;5;124m'\u001b[39m]\u001b[38;5;241m.\u001b[39mastype(\u001b[38;5;28mint\u001b[39m)\n\u001b[0;32m      3\u001b[0m \u001b[38;5;28mprint\u001b[39m(df\u001b[38;5;241m.\u001b[39mhead())\n",
      "\u001b[1;31mNameError\u001b[0m: name 'df' is not defined"
     ]
    }
   ],
   "source": [
    "df['month'] = df['month'].astype(int)\n",
    "df['day'] = df['day'].astype(int)\n",
    "print(df.head())"
   ]
  },
  {
   "cell_type": "code",
   "execution_count": 24,
   "id": "2932fd94-b721-4261-807b-ed0420d0ea66",
   "metadata": {},
   "outputs": [
    {
     "name": "stdout",
     "output_type": "stream",
     "text": [
      "<class 'pandas.core.series.Series'>\n",
      "   year  month  day value       date\n",
      "0  1991      1    5   9.5 1991-01-05\n",
      "1  1991      1    6   9.5 1991-01-06\n",
      "2  1991      1    7   9.7 1991-01-07\n",
      "3  1991      1    8    10 1991-01-08\n",
      "4  1991      1    9  10.2 1991-01-09\n"
     ]
    }
   ],
   "source": [
    "df['date'] = pd.to_datetime(df[['year', 'month', 'day']].astype(int).astype(str).agg('-'.join, axis=1))\n",
    "print(df.head())"
   ]
  },
  {
   "cell_type": "code",
   "execution_count": 28,
   "id": "fcf04e0e-cb0f-4cc1-840a-ca3810801833",
   "metadata": {},
   "outputs": [
    {
     "name": "stdout",
     "output_type": "stream",
     "text": [
      "  value       date\n",
      "0   9.5 1991-01-05\n",
      "1   9.5 1991-01-06\n",
      "2   9.7 1991-01-07\n",
      "3    10 1991-01-08\n",
      "4  10.2 1991-01-09\n"
     ]
    }
   ],
   "source": [
    "df = df.drop(['year','month','day'],axis=1)\n",
    "print(df.head())"
   ]
  },
  {
   "cell_type": "code",
   "execution_count": 29,
   "id": "bd57360c-2fb9-44ca-8cae-5a3b7d030dc1",
   "metadata": {},
   "outputs": [
    {
     "name": "stdout",
     "output_type": "stream",
     "text": [
      "           value\n",
      "date            \n",
      "1991-01-05   9.5\n",
      "1991-01-06   9.5\n",
      "1991-01-07   9.7\n",
      "1991-01-08    10\n",
      "1991-01-09  10.2\n"
     ]
    }
   ],
   "source": [
    "df.set_index('date',inplace=True)\n",
    "print(df.head())"
   ]
  },
  {
   "cell_type": "code",
   "execution_count": 56,
   "id": "ca09d744-6b1d-4db5-bb99-3359f77c737e",
   "metadata": {},
   "outputs": [
    {
     "name": "stdout",
     "output_type": "stream",
     "text": [
      "nan\n",
      "           key_0  temperature  precipitation\n",
      "0     1991-01-01          9.5            1.7\n",
      "1     1991-01-02          8.2           14.6\n",
      "2     1991-01-03          8.1            4.4\n",
      "3     1991-01-04          8.5            0.0\n",
      "4     1991-01-05          9.5            0.0\n",
      "...          ...          ...            ...\n",
      "12044 2023-12-23          NaN            NaN\n",
      "12045 2023-12-24          NaN            NaN\n",
      "12046 2023-12-25          NaN            NaN\n",
      "12047 2023-12-26          NaN            NaN\n",
      "12048 2023-12-27          NaN            NaN\n",
      "\n",
      "[12049 rows x 3 columns]\n"
     ]
    }
   ],
   "source": [
    "\n",
    "#How can we merge the two csv in single dataframe using the pandas\n",
    "import pandas as pd\n",
    "import numpy as np\n",
    "df = pd.read_csv('Kathmandu_temperature_daily.csv')\n",
    "df = df.iloc[4:]\n",
    "df.columns = ['year','month','day','temperature']\n",
    "df['year'] = df['year'].astype(int)\n",
    "df['month'] = df['month'].astype(int)\n",
    "df['day'] = df['day'].astype(int)\n",
    "df['temperature'] = df['temperature'].astype(float)\n",
    "df['date'] = pd.to_datetime(df[['year', 'month', 'day']].astype(int).astype(str).agg('-'.join, axis=1))\n",
    "df=df.drop(['year','month','day'],axis=1)\n",
    "df.set_index('date',inplace=True)\n",
    "df['temperature'] = df['temperature'].replace(-9999,np.nan)\n",
    "\n",
    "\n",
    "\n",
    "df2 = pd.read_csv('Kathmandu_precipitaiton_daily.csv')\n",
    "df2 = df2.iloc[4:]\n",
    "df2.columns = ['year','month','day','precipitation']\n",
    "df2['year'] = df2['year'].astype(int)\n",
    "df2['month'] = df2['month'].astype(int)\n",
    "df2['day'] = df2['day'].astype(int)\n",
    "df2['precipitation'] = df2['precipitation'].astype(float)\n",
    "df2['date'] = pd.to_datetime(df2[['year', 'month', 'day']].astype(int).astype(str).agg('-'.join, axis=1))\n",
    "df2=df2.drop(['year','month','day'],axis=1)\n",
    "df2.set_index('date',inplace=True)\n",
    "df2['precipitation'] = df2['precipitation'].replace(-9999,np.nan)\n",
    "\n",
    "\n",
    "\n",
    "joined_df = pd.merge(df,df2,on=df.index,how='left')\n",
    "print((9+np.nan+10)/2)\n",
    "print(joined_df)\n"
   ]
  },
  {
   "cell_type": "code",
   "execution_count": 28,
   "id": "d79078d1-b644-4094-a307-6413432566c9",
   "metadata": {},
   "outputs": [
    {
     "ename": "NameError",
     "evalue": "name 'df' is not defined",
     "output_type": "error",
     "traceback": [
      "\u001b[1;31m---------------------------------------------------------------------------\u001b[0m",
      "\u001b[1;31mNameError\u001b[0m                                 Traceback (most recent call last)",
      "Cell \u001b[1;32mIn[28], line 1\u001b[0m\n\u001b[1;32m----> 1\u001b[0m joined_df \u001b[38;5;241m=\u001b[39m pd\u001b[38;5;241m.\u001b[39mconcat([\u001b[43mdf\u001b[49m,df2],axis\u001b[38;5;241m=\u001b[39m\u001b[38;5;241m1\u001b[39m)\n\u001b[0;32m      2\u001b[0m \u001b[38;5;28mprint\u001b[39m(joined_df)\n",
      "\u001b[1;31mNameError\u001b[0m: name 'df' is not defined"
     ]
    }
   ],
   "source": []
  },
  {
   "cell_type": "code",
   "execution_count": 73,
   "id": "fe0d9b45-5cc5-4bf1-a341-ff73caccc9e5",
   "metadata": {},
   "outputs": [
    {
     "name": "stdout",
     "output_type": "stream",
     "text": [
      "     Pokhara Airport            \n",
      "                mean    max  min\n",
      "Time                            \n",
      "1981       25.832258  135.9  0.0\n",
      "1982       27.583871  164.2  0.0\n",
      "1983       23.019355  111.1  0.0\n",
      "1984       42.919355  171.5  0.0\n",
      "1985       29.190323  223.8  0.0\n",
      "     Kathmandu Airport      \n",
      "                  mean   max\n",
      "Time                        \n",
      "1981          9.806452  35.5\n",
      "1982          7.683871  51.7\n",
      "1983         16.125806  72.0\n",
      "1984          8.067742  30.2\n",
      "1985         13.493548  50.8\n"
     ]
    }
   ],
   "source": [
    "import pandas as pd \n",
    "\n",
    "file_path = \"1981_2020_ktm_pkr.xlsx\"\n",
    "df = pd.read_excel(file_path)\n",
    "df['Time'] = pd.to_datetime(df['Time'], format='%m/%d/%Y %H:%M:%S')\n",
    "df.set_index('Time',inplace=True)\n",
    "df = df[df.index.month == 7]\n",
    "average_results_pokhara  = df.groupby(df.index.year).agg({'Pokhara Airport':['mean','max','min']})\n",
    "average_results_kathmandu  = df.groupby(df.index.year).agg({'Kathmandu Airport':['mean','max']})\n",
    "print(average_results_pokhara.head())\n",
    "print(average_results_kathmandu.head())"
   ]
  },
  {
   "cell_type": "code",
   "execution_count": null,
   "id": "fb8e512a-c02a-48d9-a128-96c8aca0205a",
   "metadata": {},
   "outputs": [],
   "source": []
  }
 ],
 "metadata": {
  "kernelspec": {
   "display_name": "Python 3 (ipykernel)",
   "language": "python",
   "name": "python3"
  },
  "language_info": {
   "codemirror_mode": {
    "name": "ipython",
    "version": 3
   },
   "file_extension": ".py",
   "mimetype": "text/x-python",
   "name": "python",
   "nbconvert_exporter": "python",
   "pygments_lexer": "ipython3",
   "version": "3.10.11"
  }
 },
 "nbformat": 4,
 "nbformat_minor": 5
}
